{
 "cells": [
  {
   "cell_type": "code",
   "execution_count": 1,
   "id": "006956ed",
   "metadata": {},
   "outputs": [
    {
     "name": "stdout",
     "output_type": "stream",
     "text": [
      "HelloSteve\n"
     ]
    }
   ],
   "source": [
    "x = \"Hello\"\n",
    "y = \"Steve\"\n",
    "\n",
    "print (x+y)"
   ]
  },
  {
   "cell_type": "code",
   "execution_count": null,
   "id": "158c48b3",
   "metadata": {},
   "outputs": [],
   "source": []
  },
  {
   "cell_type": "code",
   "execution_count": 10,
   "id": "9beb2d33",
   "metadata": {},
   "outputs": [
    {
     "data": {
      "text/plain": [
       "28.25"
      ]
     },
     "execution_count": 10,
     "metadata": {},
     "output_type": "execute_result"
    }
   ],
   "source": [
    "25 +3.25"
   ]
  },
  {
   "cell_type": "code",
   "execution_count": 4,
   "id": "e1e4aaaa",
   "metadata": {},
   "outputs": [],
   "source": [
    "a=1"
   ]
  },
  {
   "cell_type": "code",
   "execution_count": 5,
   "id": "a8e7f5fd",
   "metadata": {},
   "outputs": [
    {
     "data": {
      "text/plain": [
       "int"
      ]
     },
     "execution_count": 5,
     "metadata": {},
     "output_type": "execute_result"
    }
   ],
   "source": [
    "type(a)"
   ]
  },
  {
   "cell_type": "code",
   "execution_count": 6,
   "id": "9c93d05c",
   "metadata": {},
   "outputs": [],
   "source": [
    "x = 22 / 2 + 5 * 7**2"
   ]
  },
  {
   "cell_type": "code",
   "execution_count": 7,
   "id": "4c9ca3bb",
   "metadata": {},
   "outputs": [
    {
     "data": {
      "text/plain": [
       "256.0"
      ]
     },
     "execution_count": 7,
     "metadata": {},
     "output_type": "execute_result"
    }
   ],
   "source": [
    "x"
   ]
  },
  {
   "cell_type": "code",
   "execution_count": null,
   "id": "80b2d0a8",
   "metadata": {},
   "outputs": [],
   "source": []
  }
 ],
 "metadata": {
  "kernelspec": {
   "display_name": "Python 3 (ipykernel)",
   "language": "python",
   "name": "python3"
  },
  "language_info": {
   "codemirror_mode": {
    "name": "ipython",
    "version": 3
   },
   "file_extension": ".py",
   "mimetype": "text/x-python",
   "name": "python",
   "nbconvert_exporter": "python",
   "pygments_lexer": "ipython3",
   "version": "3.9.7"
  }
 },
 "nbformat": 4,
 "nbformat_minor": 5
}
