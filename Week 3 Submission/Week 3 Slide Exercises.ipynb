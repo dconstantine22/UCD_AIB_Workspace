{
 "cells": [
  {
   "cell_type": "code",
   "execution_count": 6,
   "id": "71a6eed7",
   "metadata": {},
   "outputs": [
    {
     "name": "stdout",
     "output_type": "stream",
     "text": [
      "Executing if\n",
      "Prints regardless of the outcome of the if-else block\n"
     ]
    }
   ],
   "source": [
    "#If-Else Example\n",
    "x = True\n",
    "\n",
    "if x:\n",
    "    print(\"Executing if\")\n",
    "else:\n",
    "    print(\"Executing else\")\n",
    "    \n",
    "print(\"Prints regardless of the outcome of the if-else block\")"
   ]
  },
  {
   "cell_type": "code",
   "execution_count": 7,
   "id": "66bc7bcf",
   "metadata": {},
   "outputs": [
    {
     "name": "stdout",
     "output_type": "stream",
     "text": [
      "10 is even!\n",
      "10 is divisable by 5!\n",
      "Output only when x is divisable by both 2 and 5.\n",
      "No indentation. Output in all cases.\n"
     ]
    }
   ],
   "source": [
    "#Indentation Matters!!!\n",
    "\n",
    "y = 10\n",
    "\n",
    "if y%2 == 0:\n",
    "    print(y, \"is even!\")\n",
    "    if y%5 == 0:\n",
    "        print(y, \"is divisable by 5!\")\n",
    "        print(\"Output only when x is divisable by both 2 and 5.\")\n",
    "    else:\n",
    "        print(y, \"is not divisable by 5!\")\n",
    "        print(\"Output only when x is divisable by 2 and not 5.\")\n",
    "else:\n",
    "    print(y,\"is odd!\")\n",
    "print(\"No indentation. Output in all cases.\")\n"
   ]
  },
  {
   "cell_type": "code",
   "execution_count": 10,
   "id": "f4b3354d",
   "metadata": {},
   "outputs": [
    {
     "name": "stdout",
     "output_type": "stream",
     "text": [
      "Price at which you have purchased Bitcoins: 2\n",
      "Current price of the bitcoins: 3\n",
      "You will make  1.0 € per Bitcoin.\n"
     ]
    }
   ],
   "source": [
    "#Bitcoin Broker Example - \n",
    "# ELIF Block (else + + if which means that the previous statements must be false for the current one to evaluate to true)\n",
    "\n",
    "purchasePrice = float(input(\"Price at which you have purchased Bitcoins: \"))\n",
    "currentPrice = float(input(\"Current price of the bitcoins: \"))\n",
    "\n",
    "if currentPrice < purchasePrice *0.9:\n",
    "    print(\"Not a good idea to sell your Bitcoins now.\")\n",
    "    print(\"You will lose \", purchasePrice - currentPrice, \"€ per bitcoin,\")\n",
    "elif currentPrice > purchasePrice*1.2:\n",
    "    print(\"You will make \", currentPrice - purchasePrice, \"€ per Bitcoin.\")\n",
    "else:\n",
    "    print(\"Not worth selling now.\")"
   ]
  },
  {
   "cell_type": "code",
   "execution_count": 13,
   "id": "59a9a0fa",
   "metadata": {},
   "outputs": [
    {
     "name": "stdout",
     "output_type": "stream",
     "text": [
      "Enter a Number: bob\n"
     ]
    },
    {
     "ename": "ValueError",
     "evalue": "invalid literal for int() with base 10: 'bob'",
     "output_type": "error",
     "traceback": [
      "\u001b[0;31m---------------------------------------------------------------------------\u001b[0m",
      "\u001b[0;31mValueError\u001b[0m                                Traceback (most recent call last)",
      "\u001b[0;32m/var/folders/1h/rv72wcdd279d_g_gbjp9f_z40000gn/T/ipykernel_6296/1791279961.py\u001b[0m in \u001b[0;36m<module>\u001b[0;34m\u001b[0m\n\u001b[0;32m----> 1\u001b[0;31m \u001b[0mnumber\u001b[0m \u001b[0;34m=\u001b[0m \u001b[0mint\u001b[0m\u001b[0;34m(\u001b[0m\u001b[0minput\u001b[0m\u001b[0;34m(\u001b[0m\u001b[0;34m\"Enter a Number: \"\u001b[0m\u001b[0;34m)\u001b[0m\u001b[0;34m)\u001b[0m\u001b[0;34m\u001b[0m\u001b[0;34m\u001b[0m\u001b[0m\n\u001b[0m\u001b[1;32m      2\u001b[0m \u001b[0msum\u001b[0m \u001b[0;34m=\u001b[0m \u001b[0;36m0\u001b[0m\u001b[0;34m\u001b[0m\u001b[0;34m\u001b[0m\u001b[0m\n\u001b[1;32m      3\u001b[0m \u001b[0;32mfor\u001b[0m \u001b[0mvalue\u001b[0m \u001b[0;32min\u001b[0m \u001b[0mrange\u001b[0m\u001b[0;34m(\u001b[0m\u001b[0;36m1\u001b[0m\u001b[0;34m,\u001b[0m \u001b[0mnumber\u001b[0m \u001b[0;34m+\u001b[0m \u001b[0;36m1\u001b[0m\u001b[0;34m)\u001b[0m\u001b[0;34m:\u001b[0m\u001b[0;34m\u001b[0m\u001b[0;34m\u001b[0m\u001b[0m\n\u001b[1;32m      4\u001b[0m     \u001b[0msum\u001b[0m \u001b[0;34m=\u001b[0m \u001b[0msum\u001b[0m \u001b[0;34m+\u001b[0m \u001b[0mvalue\u001b[0m\u001b[0;34m\u001b[0m\u001b[0;34m\u001b[0m\u001b[0m\n\u001b[1;32m      5\u001b[0m \u001b[0mprint\u001b[0m\u001b[0;34m(\u001b[0m\u001b[0msum\u001b[0m\u001b[0;34m)\u001b[0m\u001b[0;34m\u001b[0m\u001b[0;34m\u001b[0m\u001b[0m\n",
      "\u001b[0;31mValueError\u001b[0m: invalid literal for int() with base 10: 'bob'"
     ]
    }
   ],
   "source": [
    "number = int(input(\"Enter a Number: \"))\n",
    "sum = 0\n",
    "for value in range(1, number + 1):\n",
    "    sum = sum + value\n",
    "print(sum)"
   ]
  },
  {
   "cell_type": "code",
   "execution_count": null,
   "id": "c2a55882",
   "metadata": {},
   "outputs": [],
   "source": []
  },
  {
   "cell_type": "code",
   "execution_count": null,
   "id": "666c8e67",
   "metadata": {},
   "outputs": [],
   "source": []
  }
 ],
 "metadata": {
  "kernelspec": {
   "display_name": "Python 3 (ipykernel)",
   "language": "python",
   "name": "python3"
  },
  "language_info": {
   "codemirror_mode": {
    "name": "ipython",
    "version": 3
   },
   "file_extension": ".py",
   "mimetype": "text/x-python",
   "name": "python",
   "nbconvert_exporter": "python",
   "pygments_lexer": "ipython3",
   "version": "3.9.7"
  }
 },
 "nbformat": 4,
 "nbformat_minor": 5
}
