{
 "cells": [
  {
   "cell_type": "code",
   "execution_count": 1,
   "id": "a799e2c3",
   "metadata": {},
   "outputs": [],
   "source": [
    "import pandas as pd"
   ]
  },
  {
   "cell_type": "code",
   "execution_count": 3,
   "id": "5a4b4814",
   "metadata": {},
   "outputs": [],
   "source": [
    "CAvideos = pd.read_csv('CAvideos.csv')\n",
    "GBvideos = pd.read_csv('GBvideos.csv')"
   ]
  },
  {
   "cell_type": "code",
   "execution_count": 5,
   "id": "0bea1736",
   "metadata": {},
   "outputs": [
    {
     "name": "stdout",
     "output_type": "stream",
     "text": [
      "<class 'pandas.core.frame.DataFrame'>\n",
      "RangeIndex: 40881 entries, 0 to 40880\n",
      "Data columns (total 16 columns):\n",
      " #   Column                  Non-Null Count  Dtype \n",
      "---  ------                  --------------  ----- \n",
      " 0   video_id                40881 non-null  object\n",
      " 1   trending_date           40881 non-null  object\n",
      " 2   title                   40881 non-null  object\n",
      " 3   channel_title           40881 non-null  object\n",
      " 4   category_id             40881 non-null  int64 \n",
      " 5   publish_time            40881 non-null  object\n",
      " 6   tags                    40881 non-null  object\n",
      " 7   views                   40881 non-null  int64 \n",
      " 8   likes                   40881 non-null  int64 \n",
      " 9   dislikes                40881 non-null  int64 \n",
      " 10  comment_count           40881 non-null  int64 \n",
      " 11  thumbnail_link          40881 non-null  object\n",
      " 12  comments_disabled       40881 non-null  bool  \n",
      " 13  ratings_disabled        40881 non-null  bool  \n",
      " 14  video_error_or_removed  40881 non-null  bool  \n",
      " 15  description             39585 non-null  object\n",
      "dtypes: bool(3), int64(5), object(8)\n",
      "memory usage: 4.2+ MB\n"
     ]
    }
   ],
   "source": [
    "CAvideos.info()"
   ]
  },
  {
   "cell_type": "code",
   "execution_count": 6,
   "id": "23053c5d",
   "metadata": {},
   "outputs": [
    {
     "name": "stdout",
     "output_type": "stream",
     "text": [
      "<class 'pandas.core.frame.DataFrame'>\n",
      "RangeIndex: 38916 entries, 0 to 38915\n",
      "Data columns (total 16 columns):\n",
      " #   Column                  Non-Null Count  Dtype \n",
      "---  ------                  --------------  ----- \n",
      " 0   video_id                38916 non-null  object\n",
      " 1   trending_date           38916 non-null  object\n",
      " 2   title                   38916 non-null  object\n",
      " 3   channel_title           38916 non-null  object\n",
      " 4   category_id             38916 non-null  int64 \n",
      " 5   publish_time            38916 non-null  object\n",
      " 6   tags                    38916 non-null  object\n",
      " 7   views                   38916 non-null  int64 \n",
      " 8   likes                   38916 non-null  int64 \n",
      " 9   dislikes                38916 non-null  int64 \n",
      " 10  comment_count           38916 non-null  int64 \n",
      " 11  thumbnail_link          38916 non-null  object\n",
      " 12  comments_disabled       38916 non-null  bool  \n",
      " 13  ratings_disabled        38916 non-null  bool  \n",
      " 14  video_error_or_removed  38916 non-null  bool  \n",
      " 15  description             38304 non-null  object\n",
      "dtypes: bool(3), int64(5), object(8)\n",
      "memory usage: 4.0+ MB\n"
     ]
    }
   ],
   "source": [
    "GBvideos.info()"
   ]
  },
  {
   "cell_type": "raw",
   "id": "e5d06b7c",
   "metadata": {},
   "source": [
    "# 3 Ways to combine 2 datasets.s\n",
    "## Join\n",
    "## Concat\n",
    "## Merge"
   ]
  },
  {
   "cell_type": "code",
   "execution_count": 9,
   "id": "e4521085",
   "metadata": {},
   "outputs": [
    {
     "name": "stdout",
     "output_type": "stream",
     "text": [
      "<class 'pandas.core.frame.DataFrame'>\n",
      "RangeIndex: 40881 entries, 0 to 40880\n",
      "Data columns (total 32 columns):\n",
      " #   Column                     Non-Null Count  Dtype  \n",
      "---  ------                     --------------  -----  \n",
      " 0   video_id_CA                40881 non-null  object \n",
      " 1   trending_date_CA           40881 non-null  object \n",
      " 2   title_CA                   40881 non-null  object \n",
      " 3   channel_title_CA           40881 non-null  object \n",
      " 4   category_id_CA             40881 non-null  int64  \n",
      " 5   publish_time_CA            40881 non-null  object \n",
      " 6   tags_CA                    40881 non-null  object \n",
      " 7   views_CA                   40881 non-null  int64  \n",
      " 8   likes_CA                   40881 non-null  int64  \n",
      " 9   dislikes_CA                40881 non-null  int64  \n",
      " 10  comment_count_CA           40881 non-null  int64  \n",
      " 11  thumbnail_link_CA          40881 non-null  object \n",
      " 12  comments_disabled_CA       40881 non-null  bool   \n",
      " 13  ratings_disabled_CA        40881 non-null  bool   \n",
      " 14  video_error_or_removed_CA  40881 non-null  bool   \n",
      " 15  description_CA             39585 non-null  object \n",
      " 16  video_id_GB                38916 non-null  object \n",
      " 17  trending_date_GB           38916 non-null  object \n",
      " 18  title_GB                   38916 non-null  object \n",
      " 19  channel_title_GB           38916 non-null  object \n",
      " 20  category_id_GB             38916 non-null  float64\n",
      " 21  publish_time_GB            38916 non-null  object \n",
      " 22  tags_GB                    38916 non-null  object \n",
      " 23  views_GB                   38916 non-null  float64\n",
      " 24  likes_GB                   38916 non-null  float64\n",
      " 25  dislikes_GB                38916 non-null  float64\n",
      " 26  comment_count_GB           38916 non-null  float64\n",
      " 27  thumbnail_link_GB          38916 non-null  object \n",
      " 28  comments_disabled_GB       38916 non-null  object \n",
      " 29  ratings_disabled_GB        38916 non-null  object \n",
      " 30  video_error_or_removed_GB  38916 non-null  object \n",
      " 31  description_GB             38304 non-null  object \n",
      "dtypes: bool(3), float64(5), int64(5), object(19)\n",
      "memory usage: 9.2+ MB\n"
     ]
    }
   ],
   "source": [
    "# Join --  Suffix defined so unique headers but (32 columns - tables side by side)\n",
    "dfjoin = CAvideos.join(GBvideos, lsuffix = '_CA', rsuffix = '_GB')\n",
    "dfjoin.info()"
   ]
  },
  {
   "cell_type": "code",
   "execution_count": 8,
   "id": "b69f9934",
   "metadata": {},
   "outputs": [
    {
     "name": "stdout",
     "output_type": "stream",
     "text": [
      "<class 'pandas.core.frame.DataFrame'>\n",
      "Int64Index: 79797 entries, 0 to 38915\n",
      "Data columns (total 16 columns):\n",
      " #   Column                  Non-Null Count  Dtype \n",
      "---  ------                  --------------  ----- \n",
      " 0   video_id                79797 non-null  object\n",
      " 1   trending_date           79797 non-null  object\n",
      " 2   title                   79797 non-null  object\n",
      " 3   channel_title           79797 non-null  object\n",
      " 4   category_id             79797 non-null  int64 \n",
      " 5   publish_time            79797 non-null  object\n",
      " 6   tags                    79797 non-null  object\n",
      " 7   views                   79797 non-null  int64 \n",
      " 8   likes                   79797 non-null  int64 \n",
      " 9   dislikes                79797 non-null  int64 \n",
      " 10  comment_count           79797 non-null  int64 \n",
      " 11  thumbnail_link          79797 non-null  object\n",
      " 12  comments_disabled       79797 non-null  bool  \n",
      " 13  ratings_disabled        79797 non-null  bool  \n",
      " 14  video_error_or_removed  79797 non-null  bool  \n",
      " 15  description             77889 non-null  object\n",
      "dtypes: bool(3), int64(5), object(8)\n",
      "memory usage: 8.8+ MB\n"
     ]
    }
   ],
   "source": [
    "# Concat - Merges based on rows.\n",
    "\n",
    "dfconcat = pd.concat([CAvideos, GBvideos])\n",
    "dfconcat.info()"
   ]
  },
  {
   "cell_type": "code",
   "execution_count": 10,
   "id": "06c83664",
   "metadata": {},
   "outputs": [
    {
     "data": {
      "text/html": [
       "<div>\n",
       "<style scoped>\n",
       "    .dataframe tbody tr th:only-of-type {\n",
       "        vertical-align: middle;\n",
       "    }\n",
       "\n",
       "    .dataframe tbody tr th {\n",
       "        vertical-align: top;\n",
       "    }\n",
       "\n",
       "    .dataframe thead th {\n",
       "        text-align: right;\n",
       "    }\n",
       "</style>\n",
       "<table border=\"1\" class=\"dataframe\">\n",
       "  <thead>\n",
       "    <tr style=\"text-align: right;\">\n",
       "      <th></th>\n",
       "      <th>Staff</th>\n",
       "      <th>City</th>\n",
       "    </tr>\n",
       "  </thead>\n",
       "  <tbody>\n",
       "    <tr>\n",
       "      <th>0</th>\n",
       "      <td>Mary</td>\n",
       "      <td>Dublin</td>\n",
       "    </tr>\n",
       "    <tr>\n",
       "      <th>1</th>\n",
       "      <td>John</td>\n",
       "      <td>Berlin</td>\n",
       "    </tr>\n",
       "    <tr>\n",
       "      <th>2</th>\n",
       "      <td>Jack</td>\n",
       "      <td>Warsaw</td>\n",
       "    </tr>\n",
       "    <tr>\n",
       "      <th>3</th>\n",
       "      <td>Sally</td>\n",
       "      <td>Paris</td>\n",
       "    </tr>\n",
       "    <tr>\n",
       "      <th>4</th>\n",
       "      <td>Mark</td>\n",
       "      <td>Dublin</td>\n",
       "    </tr>\n",
       "    <tr>\n",
       "      <th>5</th>\n",
       "      <td>Jane</td>\n",
       "      <td>Lisbon</td>\n",
       "    </tr>\n",
       "  </tbody>\n",
       "</table>\n",
       "</div>"
      ],
      "text/plain": [
       "   Staff    City\n",
       "0   Mary  Dublin\n",
       "1   John  Berlin\n",
       "2   Jack  Warsaw\n",
       "3  Sally   Paris\n",
       "4   Mark  Dublin\n",
       "5   Jane  Lisbon"
      ]
     },
     "execution_count": 10,
     "metadata": {},
     "output_type": "execute_result"
    }
   ],
   "source": [
    "staff  = pd.DataFrame({\"Staff\": ['Mary', 'John', 'Jack', 'Sally','Mark', 'Jane'],\n",
    "                    \"City\": ['Dublin', 'Berlin', 'Warsaw', 'Paris','Dublin', 'Lisbon']})\n",
    "staff"
   ]
  },
  {
   "cell_type": "code",
   "execution_count": 11,
   "id": "6f8f17ba",
   "metadata": {},
   "outputs": [
    {
     "data": {
      "text/html": [
       "<div>\n",
       "<style scoped>\n",
       "    .dataframe tbody tr th:only-of-type {\n",
       "        vertical-align: middle;\n",
       "    }\n",
       "\n",
       "    .dataframe tbody tr th {\n",
       "        vertical-align: top;\n",
       "    }\n",
       "\n",
       "    .dataframe thead th {\n",
       "        text-align: right;\n",
       "    }\n",
       "</style>\n",
       "<table border=\"1\" class=\"dataframe\">\n",
       "  <thead>\n",
       "    <tr style=\"text-align: right;\">\n",
       "      <th></th>\n",
       "      <th>City</th>\n",
       "      <th>Avg Salary</th>\n",
       "    </tr>\n",
       "  </thead>\n",
       "  <tbody>\n",
       "    <tr>\n",
       "      <th>0</th>\n",
       "      <td>Paris</td>\n",
       "      <td>58000</td>\n",
       "    </tr>\n",
       "    <tr>\n",
       "      <th>1</th>\n",
       "      <td>Warsaw</td>\n",
       "      <td>45000</td>\n",
       "    </tr>\n",
       "    <tr>\n",
       "      <th>2</th>\n",
       "      <td>Berlin</td>\n",
       "      <td>55000</td>\n",
       "    </tr>\n",
       "    <tr>\n",
       "      <th>3</th>\n",
       "      <td>Dublin</td>\n",
       "      <td>60000</td>\n",
       "    </tr>\n",
       "    <tr>\n",
       "      <th>4</th>\n",
       "      <td>London</td>\n",
       "      <td>62000</td>\n",
       "    </tr>\n",
       "  </tbody>\n",
       "</table>\n",
       "</div>"
      ],
      "text/plain": [
       "     City  Avg Salary\n",
       "0   Paris       58000\n",
       "1  Warsaw       45000\n",
       "2  Berlin       55000\n",
       "3  Dublin       60000\n",
       "4  London       62000"
      ]
     },
     "execution_count": 11,
     "metadata": {},
     "output_type": "execute_result"
    }
   ],
   "source": [
    "salaries = pd.DataFrame({'City': ['Paris','Warsaw','Berlin','Dublin', 'London'],\n",
    "                        'Avg Salary':[58000, 45000, 55000, 60000, 62000]})\n",
    "salaries"
   ]
  },
  {
   "cell_type": "code",
   "execution_count": 12,
   "id": "4cecf5e8",
   "metadata": {},
   "outputs": [
    {
     "data": {
      "text/html": [
       "<div>\n",
       "<style scoped>\n",
       "    .dataframe tbody tr th:only-of-type {\n",
       "        vertical-align: middle;\n",
       "    }\n",
       "\n",
       "    .dataframe tbody tr th {\n",
       "        vertical-align: top;\n",
       "    }\n",
       "\n",
       "    .dataframe thead th {\n",
       "        text-align: right;\n",
       "    }\n",
       "</style>\n",
       "<table border=\"1\" class=\"dataframe\">\n",
       "  <thead>\n",
       "    <tr style=\"text-align: right;\">\n",
       "      <th></th>\n",
       "      <th>Staff</th>\n",
       "      <th>City</th>\n",
       "      <th>Avg Salary</th>\n",
       "    </tr>\n",
       "  </thead>\n",
       "  <tbody>\n",
       "    <tr>\n",
       "      <th>0</th>\n",
       "      <td>Mary</td>\n",
       "      <td>Dublin</td>\n",
       "      <td>60000</td>\n",
       "    </tr>\n",
       "    <tr>\n",
       "      <th>1</th>\n",
       "      <td>Mark</td>\n",
       "      <td>Dublin</td>\n",
       "      <td>60000</td>\n",
       "    </tr>\n",
       "    <tr>\n",
       "      <th>2</th>\n",
       "      <td>John</td>\n",
       "      <td>Berlin</td>\n",
       "      <td>55000</td>\n",
       "    </tr>\n",
       "    <tr>\n",
       "      <th>3</th>\n",
       "      <td>Jack</td>\n",
       "      <td>Warsaw</td>\n",
       "      <td>45000</td>\n",
       "    </tr>\n",
       "    <tr>\n",
       "      <th>4</th>\n",
       "      <td>Sally</td>\n",
       "      <td>Paris</td>\n",
       "      <td>58000</td>\n",
       "    </tr>\n",
       "  </tbody>\n",
       "</table>\n",
       "</div>"
      ],
      "text/plain": [
       "   Staff    City  Avg Salary\n",
       "0   Mary  Dublin       60000\n",
       "1   Mark  Dublin       60000\n",
       "2   John  Berlin       55000\n",
       "3   Jack  Warsaw       45000\n",
       "4  Sally   Paris       58000"
      ]
     },
     "execution_count": 12,
     "metadata": {},
     "output_type": "execute_result"
    }
   ],
   "source": [
    "# Inner Join - Missing staff that didnt have a country of salary.\n",
    "\n",
    "staff.merge(salaries)"
   ]
  },
  {
   "cell_type": "code",
   "execution_count": null,
   "id": "86564fc5",
   "metadata": {},
   "outputs": [],
   "source": []
  }
 ],
 "metadata": {
  "kernelspec": {
   "display_name": "Python 3 (ipykernel)",
   "language": "python",
   "name": "python3"
  },
  "language_info": {
   "codemirror_mode": {
    "name": "ipython",
    "version": 3
   },
   "file_extension": ".py",
   "mimetype": "text/x-python",
   "name": "python",
   "nbconvert_exporter": "python",
   "pygments_lexer": "ipython3",
   "version": "3.9.7"
  }
 },
 "nbformat": 4,
 "nbformat_minor": 5
}
