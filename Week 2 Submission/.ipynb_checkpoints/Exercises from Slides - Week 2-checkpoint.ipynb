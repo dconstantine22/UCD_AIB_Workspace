{
 "cells": [
  {
   "cell_type": "code",
   "execution_count": 12,
   "id": "f398989f",
   "metadata": {},
   "outputs": [],
   "source": [
    "#Functions \n",
    "\n",
    "# This fuction returns the s\n",
    "def add (a, b):\n",
    "    \"Returns the sum of a and b.\"\n",
    "    mysum = a + b\n",
    "    \n",
    "    return mysum"
   ]
  },
  {
   "cell_type": "code",
   "execution_count": 13,
   "id": "02f641cf",
   "metadata": {},
   "outputs": [],
   "source": [
    "result = add(3, 5)"
   ]
  },
  {
   "cell_type": "code",
   "execution_count": 14,
   "id": "d3483c4d",
   "metadata": {},
   "outputs": [
    {
     "name": "stdout",
     "output_type": "stream",
     "text": [
      "8\n"
     ]
    }
   ],
   "source": [
    "print(result)"
   ]
  },
  {
   "cell_type": "code",
   "execution_count": 15,
   "id": "83381356",
   "metadata": {},
   "outputs": [
    {
     "name": "stdout",
     "output_type": "stream",
     "text": [
      "Help on function add in module __main__:\n",
      "\n",
      "add(a, b)\n",
      "    Returns the sum of a and b.\n",
      "\n"
     ]
    }
   ],
   "source": [
    "help(add)"
   ]
  },
  {
   "cell_type": "code",
   "execution_count": 16,
   "id": "24ef044f",
   "metadata": {},
   "outputs": [
    {
     "name": "stdout",
     "output_type": "stream",
     "text": [
      "Hello World\n"
     ]
    }
   ],
   "source": [
    "# This function prints 'Hello World'\n",
    "def hello_world():\n",
    "    print('Hello World')\n",
    "\n",
    "    \n",
    "hello_world()"
   ]
  },
  {
   "cell_type": "code",
   "execution_count": 17,
   "id": "61eab7df",
   "metadata": {},
   "outputs": [
    {
     "name": "stdout",
     "output_type": "stream",
     "text": [
      "Hello World\n",
      "None\n"
     ]
    }
   ],
   "source": [
    "\n",
    "c = hello_world()\n",
    "\n",
    "# This will return 'none' as a function cant be assigned to a variable to be called.\n",
    "print(a)"
   ]
  },
  {
   "cell_type": "code",
   "execution_count": 25,
   "id": "485a9e6d",
   "metadata": {},
   "outputs": [],
   "source": [
    "# Multiple Return Values Function\n",
    "def foo():\n",
    "    d = 17\n",
    "    e = 42\n",
    "\n",
    "    return( d, e)\n",
    "\n",
    "ret = foo()\n",
    "(x, y) = foo()"
   ]
  },
  {
   "cell_type": "code",
   "execution_count": 26,
   "id": "8c9b5a3e",
   "metadata": {},
   "outputs": [
    {
     "data": {
      "text/plain": [
       "(17, 42)"
      ]
     },
     "execution_count": 26,
     "metadata": {},
     "output_type": "execute_result"
    }
   ],
   "source": [
    "foo()"
   ]
  },
  {
   "cell_type": "code",
   "execution_count": 34,
   "id": "92f5caef",
   "metadata": {},
   "outputs": [
    {
     "name": "stdout",
     "output_type": "stream",
     "text": [
      "Person: Peter Pan\n",
      "Age: 10 years\n",
      "Address: Neverland\n"
     ]
    }
   ],
   "source": [
    "# Positional Parameters Fuction Example\n",
    "\n",
    "def Contact(name, age, location):\n",
    "    print(\"Person:\", name)\n",
    "    print(\"Age:\", age,\"years\")\n",
    "    print(\"Address:\", location)\n",
    "    \n",
    "Contact(name =\"Peter Pan\", location =\"Neverland\", age = 10)"
   ]
  },
  {
   "cell_type": "code",
   "execution_count": null,
   "id": "23baec2d",
   "metadata": {},
   "outputs": [],
   "source": []
  }
 ],
 "metadata": {
  "kernelspec": {
   "display_name": "Python 3 (ipykernel)",
   "language": "python",
   "name": "python3"
  },
  "language_info": {
   "codemirror_mode": {
    "name": "ipython",
    "version": 3
   },
   "file_extension": ".py",
   "mimetype": "text/x-python",
   "name": "python",
   "nbconvert_exporter": "python",
   "pygments_lexer": "ipython3",
   "version": "3.9.7"
  }
 },
 "nbformat": 4,
 "nbformat_minor": 5
}
